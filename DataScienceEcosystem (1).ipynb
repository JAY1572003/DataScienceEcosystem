{
 "cells": [
  {
   "cell_type": "markdown",
   "id": "7d3ad919-35cd-4d84-aef3-c93eb406df87",
   "metadata": {},
   "source": [
    "Exersice_2:  \n",
    "# Data Science Tools and Ecosystem\n"
   ]
  },
  {
   "cell_type": "markdown",
   "id": "66773ddb-4cee-4dee-8a77-dd5cc6e2dcc0",
   "metadata": {},
   "source": [
    "Exercise_3 :\n",
    "In this notebook, Data Science Tools and Ecosystem are summarized."
   ]
  },
  {
   "cell_type": "markdown",
   "id": "923da296-0e86-4502-b03f-a9951695f69c",
   "metadata": {},
   "source": [
    "Exercise_4:\n",
    "Some of the popular languages that Data Scientists use are:\n",
    "1. Python\n",
    "2. R\n",
    "3. Java\n",
    "4. SQL"
   ]
  },
  {
   "cell_type": "markdown",
   "id": "f02b7a8d-e66e-4981-9c7b-30edb745e258",
   "metadata": {},
   "source": [
    "Exercise_5:\n",
    "Some of the commonly used libraries used by Data Scientists include:\n",
    "1. Pandas\n",
    "2. Numpy\n",
    "3. Matplotlib\n",
    "4. Scikit-learn\n",
    "5. TensorFlow"
   ]
  },
  {
   "cell_type": "markdown",
   "id": "1f488dc7-7273-461b-99e2-cd1d8db83150",
   "metadata": {},
   "source": [
    "Exercise_6:\n",
    "| Data Science Tools |\n",
    "|--------------------|\n",
    "|  Jupyter Notebook  |\n",
    "|      R Studio      |\n",
    "| Zeppelin Notebooks |\n"
   ]
  },
  {
   "cell_type": "markdown",
   "id": "8012b19d-5549-4ae7-8a04-92ab7dcab209",
   "metadata": {},
   "source": [
    "Exersice_7:  Below are a few examples of evaluating arithmetic expressions in Python"
   ]
  },
  {
   "cell_type": "code",
   "execution_count": null,
   "id": "974b8d09-99d1-44ab-b855-b151c6b76e65",
   "metadata": {},
   "outputs": [],
   "source": [
    "# Exercise_8:\n",
    "# This a simple arithmetic expression to mutiply then add integers\n",
    "(3*4)+5"
   ]
  },
  {
   "cell_type": "code",
   "execution_count": null,
   "id": "74323028-2a34-464e-a64d-57a6090b3986",
   "metadata": {},
   "outputs": [],
   "source": [
    "# Exercise_9:\n",
    "# This will convert 200 minutes to hours by diving by 60\n",
    "minutes = 200\n",
    "hours = minutes / 60\n",
    "hours"
   ]
  },
  {
   "cell_type": "markdown",
   "id": "578fd449-96ed-4c53-a470-1b86040753fa",
   "metadata": {},
   "source": [
    "Exersice_10:\n",
    "# Objectives:\n",
    "List popular languages for Data Science:\n",
    "*python\n",
    "*R\n",
    "*SQL"
   ]
  },
  {
   "cell_type": "markdown",
   "id": "73937b03-7d2c-4e0a-891b-2fbb91d6dcd7",
   "metadata": {},
   "source": [
    "Exersice_11:\n",
    "## AUTHOR\n",
    "JAY MANGUKIYA"
   ]
  }
 ],
 "metadata": {
  "kernelspec": {
   "display_name": "Python 3 (ipykernel)",
   "language": "python",
   "name": "python3"
  },
  "language_info": {
   "codemirror_mode": {
    "name": "ipython",
    "version": 3
   },
   "file_extension": ".py",
   "mimetype": "text/x-python",
   "name": "python",
   "nbconvert_exporter": "python",
   "pygments_lexer": "ipython3",
   "version": "3.11.2"
  }
 },
 "nbformat": 4,
 "nbformat_minor": 5
}
